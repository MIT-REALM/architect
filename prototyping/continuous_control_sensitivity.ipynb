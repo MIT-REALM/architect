{
 "cells": [
  {
   "cell_type": "markdown",
   "id": "d4d40883",
   "metadata": {},
   "source": [
    "# Sensitivity-regularized control synthesis\n",
    "\n",
    "Goal: develop a rapid prototype of a control optimization system that uses a sensitivity-regularized optimization scheme.\n",
    "\n",
    "Sub-goals:\n",
    "- Implement a differentiable simulator for a simple continuous control task, taking in design parameters (control gains) and exogenous parameters (disturbances) and returning a cost (distance from goal after some amount of time).\n",
    "- Implement a wrapper around the differentiable simulator that gets the cost (autodiff'd) and the derivative of that cost w.r.t. the exogenous parameters (also autodiff'd).\n",
    "- Implement a gradient-based optimization scheme for finding design parameters that robustly optimize the cost."
   ]
  },
  {
   "cell_type": "markdown",
   "id": "a5992ed2",
   "metadata": {},
   "source": [
    "## A Differentiable Simulator\n",
    "\n",
    "This simulates a simple continuous control task using PyTorch (enabling easy autodiff). The task is to navigate a 2D quadrotor to the origin starting from a given point. There is wind blowing in the -x direction, which applies a lift and drag to the quadrotor (modelled as a flat plate)."
   ]
  },
  {
   "cell_type": "code",
   "execution_count": 2,
   "id": "51f5ba10",
   "metadata": {},
   "outputs": [],
   "source": [
    "from typing import Tuple\n",
    "\n",
    "import matplotlib.pyplot as plt\n",
    "import numpy as np\n",
    "import scipy.linalg\n",
    "import torch"
   ]
  },
  {
   "cell_type": "code",
   "execution_count": 141,
   "id": "1891f310",
   "metadata": {},
   "outputs": [],
   "source": [
    "# Define the simulator function\n",
    "def simulate(\n",
    "    design_parameters: torch.Tensor,\n",
    "    exogenous_parameters: torch.Tensor,\n",
    "    time_horizon: float = 5.0,\n",
    "    time_step: float = 1e-2,\n",
    ") -> Tuple[torch.Tensor, torch.Tensor]:\n",
    "    \"\"\"\n",
    "    Simulates the performance of the system over the specified time horizon and\n",
    "    returns the cost, which is twice differentiable using PyTorch autodiff tools.\n",
    "    \n",
    "    Calls to the simulator may be batched.\n",
    "    \n",
    "    The system is the 2D quadrotor, with state [px, pz, theta, vx, vz, theta_dot],\n",
    "    control inputs [u_left, u_right], and exogenous parameter giving the wind speed\n",
    "    in the -x direction [w].\n",
    "    \n",
    "    We use simplified flat plate aerodynamics as in\n",
    "    http://underactuated.mit.edu/trajopt.html#perching\n",
    "    \n",
    "    args:\n",
    "        design_parameters: (14,) or (N, 14) tensor giving linear feedback control gains,\n",
    "                           where the first 6 values are the first row of K, the next 6\n",
    "                           are the second row, and the last 2 values are u_0 (defined so\n",
    "                           that u = -K @ x + u_0)\n",
    "        exogenous_parameters: (1,) or (N, 1) tensor of wind speeds. If batched, must have\n",
    "                              the same batch size as design_parameters.\n",
    "    returns:\n",
    "        A tuple of cost and the state of the system over the course of the simulation\n",
    "    \"\"\"\n",
    "    # If inputs are not batched, reshape to have a batch dimension\n",
    "    if design_parameters.ndim == 1:\n",
    "        design_parameters = design_parameters.reshape(1, -1)\n",
    "    if exogenous_parameters.ndim == 1:\n",
    "        exogenous_parameters = exogenous_parameters.reshape(1, -1)\n",
    "    \n",
    "    # If design parameters were batched, make sure the exogenous params match\n",
    "    batch_size = 1\n",
    "    if design_parameters.shape[0] > 1:\n",
    "        batch_size = design_parameters.shape[0]\n",
    "        \n",
    "        # If the other input is also batched, it must match\n",
    "        if exogenous_parameters.shape[0] > 1:\n",
    "            error_msg = f\"Design params batched with size {batch_size}, but \"\n",
    "            error_msg += f\"exogenous params batched with size {exogenous_parameters.shape[0]}\"\n",
    "            assert batch_size == exogenous_parameters.shape[0], error_msg\n",
    "        else:\n",
    "            # Otherwise, repeat the exogenous parameters to match\n",
    "            exogenous_parameters = exogenous_parameters.repeat(batch_size, 1)\n",
    "    elif exogenous_parameters.shape[0] > 1:\n",
    "        # Otherwise, if exogenous params were batched,\n",
    "        # make sure design params match\n",
    "        batch_size = exogenous_parameters.shape[0]\n",
    "        \n",
    "        # If the other input is also batched, it must match\n",
    "        if design_parameters.shape[0] > 1:\n",
    "            error_msg = f\"Exogenous params batched with size {batch_size}, but \"\n",
    "            error_msg += f\"design params batched with size {design_parameters.shape[0]}\"\n",
    "            assert batch_size == design_parameters.shape[0], error_msg\n",
    "        else:\n",
    "            # Otherwise, repeat the design parameters to match\n",
    "            design_parameters = design_parameters.repeat(batch_size, 1)\n",
    "            \n",
    "    # Define the physical parameters\n",
    "    n_dims = 6\n",
    "    n_controls = 2\n",
    "    mass = 0.1  # kg\n",
    "    gravity = 9.81  # m/s^2\n",
    "    inertia = 0.001  # kg-m^2\n",
    "    r = 0.05  # m, distance from center to propeller\n",
    "    rho_air = 1.205  # kg / m^3\n",
    "    A = 0.01  # m^2 -- characteristic area of quadrotor\n",
    "    \n",
    "    # Get the control law from the design parameters\n",
    "    K = design_parameters[:, :12].reshape(-1, n_controls, n_dims)\n",
    "    u_0 = design_parameters[:, 12:].reshape(-1, n_controls, 1)\n",
    "    \n",
    "    # Create tensors to store the simulated state and controls\n",
    "    n_steps = int(time_horizon // time_step) + 1\n",
    "    q = torch.zeros(n_steps, batch_size, n_dims)\n",
    "    u = torch.zeros(n_steps, batch_size, n_controls)\n",
    "    \n",
    "    # Set the initial state stationary at px = -1, all other states 0\n",
    "    q[0, :, 0] = 1.0\n",
    "    q[0, :, 1] = 1.0\n",
    "    q[0, :, 2] = 1.0\n",
    "    \n",
    "    # Simulate forward\n",
    "    for t_step in range(n_steps - 1):\n",
    "        # Get the current state\n",
    "        q_current = q[t_step].reshape(-1, n_dims, 1)\n",
    "        px = q_current[:, 0, 0]\n",
    "        pz = q_current[:, 1, 0]\n",
    "        theta = q_current[:, 2, 0]\n",
    "        vx = q_current[:, 3, 0]\n",
    "        vz = q_current[:, 4, 0]\n",
    "        theta_dot = q_current[:, 5, 0]\n",
    "        \n",
    "        # Get the control input\n",
    "        u[t_step] = (u_0 - torch.bmm(K, q_current)).reshape(-1, n_controls)\n",
    "        u_current = u[t_step].reshape(-1, n_controls, 1)\n",
    "        \n",
    "        # Get the aerodynamic force magnitude\n",
    "        w = exogenous_parameters\n",
    "        v_wind = torch.hstack((-w, torch.zeros_like(w))).reshape(-1, 2, 1)\n",
    "        v = q_current[:, 3:5, :] - v_wind  # apparent vehicle velocity\n",
    "        n = torch.vstack((-torch.sin(theta), torch.cos(theta))).T.reshape(-1, 2, 1)\n",
    "        n = n.transpose(1, 2)\n",
    "        f_aero = rho_air * A * (n @ v) * v.norm(dim=1).unsqueeze(-1)\n",
    "        f_aero = f_aero.squeeze()  # should be (batch_size,)\n",
    "        \n",
    "        # Update the states\n",
    "        # Positions are just updated using velocities\n",
    "        q[t_step + 1, :, 0] = px + time_step * vx\n",
    "        q[t_step + 1, :, 1] = pz + time_step * vz\n",
    "        q[t_step + 1, :, 2] = theta + time_step * theta_dot\n",
    "        \n",
    "        # x velocity is updated from control input and drag\n",
    "        f_control_x = -u_current.squeeze().sum(dim=-1) * torch.sin(theta)\n",
    "        f_drag_x = f_aero * torch.sin(theta)\n",
    "        f_x = f_control_x + f_drag_x\n",
    "        q[t_step + 1, :, 3] = vx + time_step * f_x / mass\n",
    "        \n",
    "        # z velocity is updated from control input, lift, and gravity\n",
    "        f_control_z = u_current.squeeze().sum(dim=-1) * torch.cos(theta)\n",
    "        f_grav_z = -mass * gravity * torch.ones_like(f_control_z)\n",
    "        f_lift_z = f_aero * torch.cos(theta)\n",
    "        f_z = f_control_z + f_lift_z + f_grav_z\n",
    "        q[t_step + 1, :, 4] = vz + time_step * f_z / mass\n",
    "        \n",
    "        # Theta is updated from the control input alone\n",
    "        tau_control_theta = r * (u_current[:, 0, 0] - u_current[:, 1, 0])\n",
    "        tau_theta = tau_control_theta\n",
    "        q[t_step + 1, :, 5] = theta_dot + time_step * tau_theta / inertia\n",
    "        \n",
    "    # Compute the cost based on the LQR state cost\n",
    "    cost = (q[:, :, :] ** 2).sum(dim=-1).sum(dim=0) * time_step\n",
    "    \n",
    "    # Return the cost and trajectory\n",
    "    return cost, q"
   ]
  },
  {
   "cell_type": "markdown",
   "id": "16f01398",
   "metadata": {},
   "source": [
    "Let's see how this simulation performs! We can use a placeholder control policy based on LQR; this won't work particularly well, but we can at least see what happens!"
   ]
  },
  {
   "cell_type": "code",
   "execution_count": 142,
   "id": "bbba9c66",
   "metadata": {
    "scrolled": true
   },
   "outputs": [
    {
     "name": "stdout",
     "output_type": "stream",
     "text": [
      "Cost with wind 0.0 m/s = tensor([13.4876])\n",
      "Cost with wind 5.0 m/s = tensor([15.1149])\n"
     ]
    },
    {
     "data": {
      "text/plain": [
       "<matplotlib.legend.Legend at 0x7f7ea3089520>"
      ]
     },
     "execution_count": 142,
     "metadata": {},
     "output_type": "execute_result"
    },
    {
     "data": {
      "image/png": "[encoded data removed]",
      "text/plain": [
       "<Figure size 432x288 with 1 Axes>"
      ]
     },
     "metadata": {
      "needs_background": "light"
     },
     "output_type": "display_data"
    }
   ],
   "source": [
    "def get_2d_quad_lqr():\n",
    "    mass = 0.1  # kg\n",
    "    inertia = 0.001  # kg-m^2\n",
    "    r = 0.05  # m, distance from center to propeller\n",
    "\n",
    "    # Define linearized dynamics\n",
    "    A = np.zeros((6, 6))\n",
    "    A[:3, 3:] = np.eye(3)\n",
    "    A[3, 2] = -0.981\n",
    "    \n",
    "    B = np.zeros((6, 2))\n",
    "    B[4, :] = r / mass\n",
    "    B[5, 0] = r / inertia\n",
    "    B[5, 1] = -r / inertia\n",
    "    \n",
    "    # Define cost matrices\n",
    "    Q = 2 * np.eye(6)\n",
    "    R = np.eye(2)\n",
    "    \n",
    "    # Solve Ricatti equation\n",
    "    X = np.matrix(scipy.linalg.solve_continuous_are(A, B, Q, R))\n",
    "    K = np.matrix(scipy.linalg.inv(R)*(B.T*X))\n",
    "    \n",
    "    return K\n",
    "\n",
    "dp = torch.zeros(1, 14)\n",
    "dp[:, 12:] += 0.981 / 2.0\n",
    "dp[:, :12] += torch.tensor(get_2d_quad_lqr()).reshape(1, 12)\n",
    "ep = torch.ones(1, 1)\n",
    "\n",
    "w1 = 0.0\n",
    "w2 = 5.0\n",
    "cost, q1 = simulate(dp, w1 * ep, time_horizon=5.0)\n",
    "print(f\"Cost with wind {w1} m/s = {cost}\")\n",
    "\n",
    "cost, q2 = simulate(dp, w2 * ep, time_horizon=5.0)\n",
    "print(f\"Cost with wind {w2} m/s = {cost}\")\n",
    "\n",
    "plt.plot(q1[:, 0, 0], q1[:, 0, 1], label=f\"w={w1} m/s\")\n",
    "plt.plot(q2[:, 0, 0], q2[:, 0, 1], label=f\"w={w2} m/s\")\n",
    "plt.legend()"
   ]
  },
  {
   "cell_type": "markdown",
   "id": "334424f6",
   "metadata": {},
   "source": [
    "## First-order optimization\n",
    "\n",
    "Let's take a look at how well the baseline controller's performance changes as a function of wind speed."
   ]
  },
  {
   "cell_type": "code",
   "execution_count": 132,
   "id": "8d7e92f2",
   "metadata": {},
   "outputs": [
    {
     "data": {
      "text/plain": [
       "[<matplotlib.lines.Line2D at 0x7f7ea2f1a250>]"
      ]
     },
     "execution_count": 132,
     "metadata": {},
     "output_type": "execute_result"
    },
    {
     "data": {
      "image/png": "[encoded data removed]",
      "text/plain": [
       "<Figure size 432x288 with 1 Axes>"
      ]
     },
     "metadata": {
      "needs_background": "light"
     },
     "output_type": "display_data"
    }
   ],
   "source": [
    "dp = torch.zeros(1, 14)\n",
    "dp[:, 12:] += 0.981 / 2.0\n",
    "dp[:, :12] += torch.tensor(get_2d_quad_lqr()).reshape(1, 12)\n",
    "n_trials = 25\n",
    "ep = torch.linspace(0.0, 10.0, n_trials).reshape(n_trials, 1)\n",
    "\n",
    "costs, qs = simulate(dp, ep, time_horizon=5.0)\n",
    "\n",
    "plt.plot(ep[:, 0], costs, \"o-\")"
   ]
  },
  {
   "cell_type": "markdown",
   "id": "906d0fd9",
   "metadata": {},
   "source": [
    "A plot like this begs two questions. 1: How can we optimize our controller to work better at a given windspeed? 2: How can we optimize our controller to be *less sensitive* to the changes in wind speed.\n",
    "\n",
    "Let's try to answer the first question here."
   ]
  },
  {
   "cell_type": "code",
   "execution_count": 140,
   "id": "651291b2",
   "metadata": {},
   "outputs": [
    {
     "name": "stdout",
     "output_type": "stream",
     "text": [
      "tensor(-0.1622)\n"
     ]
    },
    {
     "ename": "RuntimeError",
     "evalue": "element 0 of tensors does not require grad and does not have a grad_fn",
     "output_type": "error",
     "traceback": [
      "\u001b[0;31m---------------------------------------------------------------------------\u001b[0m",
      "\u001b[0;31mRuntimeError\u001b[0m                              Traceback (most recent call last)",
      "\u001b[0;32m/tmp/ipykernel_843053/2159320947.py\u001b[0m in \u001b[0;36m<module>\u001b[0;34m\u001b[0m\n\u001b[1;32m     15\u001b[0m \u001b[0;34m\u001b[0m\u001b[0m\n\u001b[1;32m     16\u001b[0m \u001b[0mtorch\u001b[0m\u001b[0;34m.\u001b[0m\u001b[0mautograd\u001b[0m\u001b[0;34m.\u001b[0m\u001b[0mset_detect_anomaly\u001b[0m\u001b[0;34m(\u001b[0m\u001b[0;32mTrue\u001b[0m\u001b[0;34m)\u001b[0m\u001b[0;34m\u001b[0m\u001b[0;34m\u001b[0m\u001b[0m\n\u001b[0;32m---> 17\u001b[0;31m \u001b[0mcost\u001b[0m\u001b[0;34m,\u001b[0m \u001b[0m_\u001b[0m \u001b[0;34m=\u001b[0m \u001b[0msimulate\u001b[0m\u001b[0;34m(\u001b[0m\u001b[0mdp\u001b[0m\u001b[0;34m,\u001b[0m \u001b[0mep\u001b[0m\u001b[0;34m,\u001b[0m \u001b[0mtime_horizon\u001b[0m\u001b[0;34m=\u001b[0m\u001b[0;36m0.1\u001b[0m\u001b[0;34m,\u001b[0m \u001b[0mtime_step\u001b[0m\u001b[0;34m=\u001b[0m\u001b[0;36m0.1\u001b[0m\u001b[0;34m)\u001b[0m\u001b[0;34m\u001b[0m\u001b[0;34m\u001b[0m\u001b[0m\n\u001b[0m\u001b[1;32m     18\u001b[0m \u001b[0mcost\u001b[0m\u001b[0;34m.\u001b[0m\u001b[0mbackward\u001b[0m\u001b[0;34m(\u001b[0m\u001b[0;34m)\u001b[0m\u001b[0;34m\u001b[0m\u001b[0;34m\u001b[0m\u001b[0m\n\u001b[1;32m     19\u001b[0m \u001b[0mdp\u001b[0m\u001b[0;34m\u001b[0m\u001b[0;34m\u001b[0m\u001b[0m\n",
      "\u001b[0;32m/tmp/ipykernel_843053/100206984.py\u001b[0m in \u001b[0;36msimulate\u001b[0;34m(design_parameters, exogenous_parameters, time_horizon, time_step)\u001b[0m\n\u001b[1;32m    127\u001b[0m         \u001b[0mf_lift_z\u001b[0m \u001b[0;34m=\u001b[0m \u001b[0mf_aero\u001b[0m \u001b[0;34m*\u001b[0m \u001b[0mtorch\u001b[0m\u001b[0;34m.\u001b[0m\u001b[0mcos\u001b[0m\u001b[0;34m(\u001b[0m\u001b[0mtheta\u001b[0m\u001b[0;34m)\u001b[0m\u001b[0;34m\u001b[0m\u001b[0;34m\u001b[0m\u001b[0m\n\u001b[1;32m    128\u001b[0m         \u001b[0mprint\u001b[0m\u001b[0;34m(\u001b[0m\u001b[0mf_aero\u001b[0m\u001b[0;34m)\u001b[0m\u001b[0;34m\u001b[0m\u001b[0;34m\u001b[0m\u001b[0m\n\u001b[0;32m--> 129\u001b[0;31m         \u001b[0mf_aero\u001b[0m\u001b[0;34m.\u001b[0m\u001b[0mbackward\u001b[0m\u001b[0;34m(\u001b[0m\u001b[0;34m)\u001b[0m\u001b[0;34m\u001b[0m\u001b[0;34m\u001b[0m\u001b[0m\n\u001b[0m\u001b[1;32m    130\u001b[0m         \u001b[0mf_z\u001b[0m \u001b[0;34m=\u001b[0m \u001b[0mf_control_z\u001b[0m \u001b[0;34m+\u001b[0m \u001b[0mf_lift_z\u001b[0m \u001b[0;34m+\u001b[0m \u001b[0mf_grav_z\u001b[0m\u001b[0;34m\u001b[0m\u001b[0;34m\u001b[0m\u001b[0m\n\u001b[1;32m    131\u001b[0m         \u001b[0mq\u001b[0m\u001b[0;34m[\u001b[0m\u001b[0mt_step\u001b[0m \u001b[0;34m+\u001b[0m \u001b[0;36m1\u001b[0m\u001b[0;34m,\u001b[0m \u001b[0;34m:\u001b[0m\u001b[0;34m,\u001b[0m \u001b[0;36m4\u001b[0m\u001b[0;34m]\u001b[0m \u001b[0;34m=\u001b[0m \u001b[0mvz\u001b[0m \u001b[0;34m+\u001b[0m \u001b[0mtime_step\u001b[0m \u001b[0;34m*\u001b[0m \u001b[0mf_z\u001b[0m \u001b[0;34m/\u001b[0m \u001b[0mmass\u001b[0m\u001b[0;34m\u001b[0m\u001b[0;34m\u001b[0m\u001b[0m\n",
      "\u001b[0;32m~/miniconda3/envs/architect_env/lib/python3.9/site-packages/torch/_tensor.py\u001b[0m in \u001b[0;36mbackward\u001b[0;34m(self, gradient, retain_graph, create_graph, inputs)\u001b[0m\n\u001b[1;32m    253\u001b[0m                 \u001b[0mcreate_graph\u001b[0m\u001b[0;34m=\u001b[0m\u001b[0mcreate_graph\u001b[0m\u001b[0;34m,\u001b[0m\u001b[0;34m\u001b[0m\u001b[0;34m\u001b[0m\u001b[0m\n\u001b[1;32m    254\u001b[0m                 inputs=inputs)\n\u001b[0;32m--> 255\u001b[0;31m         \u001b[0mtorch\u001b[0m\u001b[0;34m.\u001b[0m\u001b[0mautograd\u001b[0m\u001b[0;34m.\u001b[0m\u001b[0mbackward\u001b[0m\u001b[0;34m(\u001b[0m\u001b[0mself\u001b[0m\u001b[0;34m,\u001b[0m \u001b[0mgradient\u001b[0m\u001b[0;34m,\u001b[0m \u001b[0mretain_graph\u001b[0m\u001b[0;34m,\u001b[0m \u001b[0mcreate_graph\u001b[0m\u001b[0;34m,\u001b[0m \u001b[0minputs\u001b[0m\u001b[0;34m=\u001b[0m\u001b[0minputs\u001b[0m\u001b[0;34m)\u001b[0m\u001b[0;34m\u001b[0m\u001b[0;34m\u001b[0m\u001b[0m\n\u001b[0m\u001b[1;32m    256\u001b[0m \u001b[0;34m\u001b[0m\u001b[0m\n\u001b[1;32m    257\u001b[0m     \u001b[0;32mdef\u001b[0m \u001b[0mregister_hook\u001b[0m\u001b[0;34m(\u001b[0m\u001b[0mself\u001b[0m\u001b[0;34m,\u001b[0m \u001b[0mhook\u001b[0m\u001b[0;34m)\u001b[0m\u001b[0;34m:\u001b[0m\u001b[0;34m\u001b[0m\u001b[0;34m\u001b[0m\u001b[0m\n",
      "\u001b[0;32m~/miniconda3/envs/architect_env/lib/python3.9/site-packages/torch/autograd/__init__.py\u001b[0m in \u001b[0;36mbackward\u001b[0;34m(tensors, grad_tensors, retain_graph, create_graph, grad_variables, inputs)\u001b[0m\n\u001b[1;32m    145\u001b[0m         \u001b[0mretain_graph\u001b[0m \u001b[0;34m=\u001b[0m \u001b[0mcreate_graph\u001b[0m\u001b[0;34m\u001b[0m\u001b[0;34m\u001b[0m\u001b[0m\n\u001b[1;32m    146\u001b[0m \u001b[0;34m\u001b[0m\u001b[0m\n\u001b[0;32m--> 147\u001b[0;31m     Variable._execution_engine.run_backward(\n\u001b[0m\u001b[1;32m    148\u001b[0m         \u001b[0mtensors\u001b[0m\u001b[0;34m,\u001b[0m \u001b[0mgrad_tensors_\u001b[0m\u001b[0;34m,\u001b[0m \u001b[0mretain_graph\u001b[0m\u001b[0;34m,\u001b[0m \u001b[0mcreate_graph\u001b[0m\u001b[0;34m,\u001b[0m \u001b[0minputs\u001b[0m\u001b[0;34m,\u001b[0m\u001b[0;34m\u001b[0m\u001b[0;34m\u001b[0m\u001b[0m\n\u001b[1;32m    149\u001b[0m         allow_unreachable=True, accumulate_grad=True)  # allow_unreachable flag\n",
      "\u001b[0;31mRuntimeError\u001b[0m: element 0 of tensors does not require grad and does not have a grad_fn"
     ]
    }
   ],
   "source": [
    "# Initialize our controller with a guess from LQR, but enable grad so we can optimize\n",
    "dp = torch.zeros(1, 14)\n",
    "dp[:, 12:] += 0.981 / 2.0\n",
    "dp[:, :12] += torch.tensor(get_2d_quad_lqr()).reshape(1, 12)\n",
    "dp.requires_grad = True\n",
    "# Save the initial guess for posterity\n",
    "dp_0 = dp.clone().detach()\n",
    "\n",
    "# Also pick a wind-speed to operate in\n",
    "ep = 4.0 * torch.ones(1, 1)\n",
    "\n",
    "# Set up some details for a gradient-descent-based optimization\n",
    "n_steps = 100\n",
    "learning_rate = 1e-3\n",
    "\n",
    "torch.autograd.set_detect_anomaly(True)\n",
    "cost, _ = simulate(dp, ep, time_horizon=0.1, time_step=0.1)\n",
    "cost.backward()\n",
    "dp"
   ]
  }
 ],
 "metadata": {
  "kernelspec": {
   "display_name": "architect_env",
   "language": "python",
   "name": "architect_env"
  },
  "language_info": {
   "codemirror_mode": {
    "name": "ipython",
    "version": 3
   },
   "file_extension": ".py",
   "mimetype": "text/x-python",
   "name": "python",
   "nbconvert_exporter": "python",
   "pygments_lexer": "ipython3",
   "version": "3.9.7"
  }
 },
 "nbformat": 4,
 "nbformat_minor": 5
}
